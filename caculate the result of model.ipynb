{
 "cells": [
  {
   "cell_type": "code",
   "execution_count": null,
   "metadata": {},
   "outputs": [
    {
     "name": "stdout",
     "output_type": "stream",
     "text": [
      "0.9382991081403148 0.2483966422069453\n"
     ]
    }
   ],
   "source": [
    "import json\n",
    "import pandas as pd \n",
    "import numpy as np\n",
    "from sklearn.preprocessing import StandardScaler\n",
    "from sklearn.metrics import r2_score, mean_squared_error\n",
    "import re\n",
    "\n",
    "def extract_float(value):\n",
    "  \n",
    "    match = re.search(r\"[-+]?\\d*\\.\\d+|\\d+\", value)\n",
    "    if match:\n",
    "        return float(match.group())\n",
    "    else:\n",
    "        return 0  \n",
    "\n",
    "def caculate_score_LLM(file_path):\n",
    "    labels = []\n",
    "    predicts = []\n",
    "    with open(file_path, 'r', encoding='utf-8') as file:\n",
    "        for line in file:\n",
    "            try:\n",
    "                data = json.loads(line.strip())\n",
    "                label = data.get('label')  \n",
    "                predict = data.get('predict')  \n",
    "                predict = predict.replace(\" \", \".\")\n",
    "                label = extract_float(label)\n",
    "                predict = extract_float(predict)\n",
    "                if label is not None:\n",
    "                    labels.append(float(label))\n",
    "                if predict is not None:\n",
    "                    predicts.append(float(predict))\n",
    "            except json.JSONDecodeError:\n",
    "                print(\"Error decoding JSON line:\", line)\n",
    " \n",
    "    labels = pd.Series(labels).tolist()\n",
    "    predicts = pd.Series(predicts).tolist()\n",
    "    labels = np.array(labels).reshape(-1, 1)\n",
    "    predicts = np.array(predicts).reshape(-1, 1)\n",
    "    scaler1 = StandardScaler()\n",
    "    scaler1.fit(labels)\n",
    "    label_tr = scaler1.transform(labels)\n",
    "    scaler2 = StandardScaler()\n",
    "    scaler2.fit(predicts)\n",
    "    predicts_tr = scaler2.transform(predicts)\n",
    "    R2 = r2_score(label_tr, predicts_tr)\n",
    "    RMSE = np.sqrt(mean_squared_error(label_tr, predicts_tr))  \n",
    "    return R2, RMSE\n",
    "\n",
    "file_path = r\"C:\\Users\\Windows\\Desktop\\fsdownload\\no_unit_predict_train\\generated_predictions.jsonl\"\n",
    "R2,RMSE = caculate_score_LLM(file_path)\n",
    "print(R2,RMSE)"
   ]
  }
 ],
 "metadata": {
  "kernelspec": {
   "display_name": "env1",
   "language": "python",
   "name": "python3"
  },
  "language_info": {
   "codemirror_mode": {
    "name": "ipython",
    "version": 3
   },
   "file_extension": ".py",
   "mimetype": "text/x-python",
   "name": "python",
   "nbconvert_exporter": "python",
   "pygments_lexer": "ipython3",
   "version": "3.10.0"
  }
 },
 "nbformat": 4,
 "nbformat_minor": 2
}
